{
 "cells": [
  {
   "cell_type": "code",
   "execution_count": 16,
   "metadata": {},
   "outputs": [],
   "source": [
    "from robust_cfe.dataproc import gimme\n",
    "\n",
    "dataset_names = ['credit','adult','boston','garments','compas']\n",
    "\n",
    "''' Fancy names dict for paper '''\n",
    "fancy_names = {\n",
    "  \"cogs\" : \"CoGS\",\n",
    "  \"cogs+P\" : \"CoGS+$\\mathcal{P}$\",\n",
    "  \"nelder-mead\" : \"NeMe\",\n",
    "  \"lore\" : \"LORE\",\n",
    "  \"growingspheres\" : \"GrSp\",\n",
    "  \"boston\" : \"Hou\",\n",
    "  \"credit\" : \"Cre\",\n",
    "  \"compas\" : \"Rec\",\n",
    "  \"adult\" : \"Inc\",\n",
    "  \"garments\" : \"Pro\"\n",
    "}\n",
    "\n",
    "verbose=False"
   ]
  },
  {
   "cell_type": "code",
   "execution_count": 18,
   "metadata": {},
   "outputs": [
    {
     "name": "stdout",
     "output_type": "stream",
     "text": [
      "Data set: Cre\n",
      " No. features: 20 ; no. categorical: 6 ; no. plaus. constraints: 11 ; no. perturbations 6\n",
      "  Plausib. constraints: >=:3, <=:0, =:8\n",
      "  Perturbations: num:6 (<=:1, >=:0, <= or >=:5), cat:0\n",
      "Data set: Inc\n",
      " No. features: 12 ; no. categorical: 7 ; no. plaus. constraints: 5 ; no. perturbations 8\n",
      "  Plausib. constraints: >=:2, <=:0, =:3\n",
      "  Perturbations: num:4 (<=:1, >=:0, <= or >=:3), cat:4\n",
      "Data set: Hou\n",
      " No. features: 13 ; no. categorical: 1 ; no. plaus. constraints: 4 ; no. perturbations 11\n",
      "  Plausib. constraints: >=:0, <=:1, =:3\n",
      "  Perturbations: num:11 (<=:1, >=:1, <= or >=:9), cat:0\n",
      "Data set: Pro\n",
      " No. features: 12 ; no. categorical: 5 ; no. plaus. constraints: 0 ; no. perturbations 7\n",
      "  Plausib. constraints: >=:0, <=:0, =:0\n",
      "  Perturbations: num:5 (<=:0, >=:1, <= or >=:4), cat:2\n",
      "Data set: Rec\n",
      " No. features: 10 ; no. categorical: 6 ; no. plaus. constraints: 4 ; no. perturbations 5\n",
      "  Plausib. constraints: >=:2, <=:0, =:2\n",
      "  Perturbations: num:3 (<=:2, >=:0, <= or >=:1), cat:2\n"
     ]
    }
   ],
   "source": [
    "for dataset_name in dataset_names:\n",
    "    print(\"Data set:\", fancy_names[dataset_name])\n",
    "    dataset = gimme(dataset_name, datasets_folder=\"../datasets\")\n",
    "\n",
    "    num_features = len(dataset[\"feature_names\"])\n",
    "    num_categorical_features = len(dataset[\"indices_categorical_features\"])\n",
    "    num_active_plausib_constraints = len([x for x in dataset[\"plausibility_constraints\"] if x is not None])\n",
    "    num_active_perturbations = len([x for x in dataset[\"perturbations\"] if x is not None])\n",
    "\n",
    "    num_geq_plausib_constraints = len([x for x in dataset[\"plausibility_constraints\"] if x is not None and x==\">=\"])\n",
    "    num_leq_plausib_constraints = len([x for x in dataset[\"plausibility_constraints\"] if x is not None and x==\"<=\"])\n",
    "    num_eq_plausib_constraints = len([x for x in dataset[\"plausibility_constraints\"] if x is not None and x==\"=\"])\n",
    "\n",
    "    num_geqonly_num_perturbations = len([x for x in dataset[\"perturbations\"] if x is not None \n",
    "        and 'categories' not in x and x[\"decrease\"] == 0 and x[\"increase\"] != 0])\n",
    "    num_leqonly_num_perturbations = len([x for x in dataset[\"perturbations\"] if x is not None \n",
    "        and 'categories' not in x and x[\"decrease\"] != 0 and x[\"increase\"] == 0])\n",
    "    num_bothways_num_perturbations = len([x for x in dataset[\"perturbations\"] if x is not None \n",
    "        and 'categories' not in x and x[\"decrease\"] != 0 and x[\"increase\"] != 0])\n",
    "    num_categorical_perturbations = len([x for x in dataset[\"perturbations\"] if x is not None \n",
    "        and 'categories' in x])\n",
    "    \n",
    "    print(\" No. features:\", num_features, \"; no. categorical:\", num_categorical_features,\n",
    "        \"; no. plaus. constraints:\", num_active_plausib_constraints, \"; no. perturbations\", num_active_perturbations)\n",
    "\n",
    "    print(\"  Plausib. constraints: >=:{}, <=:{}, =:{}\".format(num_geq_plausib_constraints, num_leq_plausib_constraints, num_eq_plausib_constraints))\n",
    "    print(\"  Perturbations: num:{} (<=:{}, >=:{}, <= or >=:{}), cat:{}\".format(\n",
    "            num_geqonly_num_perturbations+num_leqonly_num_perturbations+num_bothways_num_perturbations,\n",
    "            num_geqonly_num_perturbations, num_leqonly_num_perturbations, num_bothways_num_perturbations,\n",
    "            num_categorical_perturbations\n",
    "    ))\n",
    "\n",
    "    if verbose:\n",
    "        print(\"\\n  ===Full details===\")\n",
    "        for i, feature_name in enumerate(dataset[\"feature_names\"]):\n",
    "            plausibility_constraint = dataset[\"plausibility_constraints\"][i]\n",
    "            perturbations = dataset[\"perturbations\"][i]\n",
    "            \n",
    "            # add spaces to feature_name for nice formatting\n",
    "            num_trailing_spaces = 20 - len(feature_name)\n",
    "            feature_name = feature_name + \" \" * num_trailing_spaces\n",
    "            print(\"   \",feature_name, \"\\tplaus. const.:\",plausibility_constraint,\"\\tperturb.:\",perturbations)\n",
    "\n",
    "    "
   ]
  },
  {
   "cell_type": "code",
   "execution_count": null,
   "metadata": {},
   "outputs": [],
   "source": []
  }
 ],
 "metadata": {
  "interpreter": {
   "hash": "31f2aee4e71d21fbe5cf8b01ff0e069b9275f58929596ceb00d14d90e3e16cd6"
  },
  "kernelspec": {
   "display_name": "Python 3.8.2 64-bit",
   "language": "python",
   "name": "python3"
  },
  "language_info": {
   "codemirror_mode": {
    "name": "ipython",
    "version": 3
   },
   "file_extension": ".py",
   "mimetype": "text/x-python",
   "name": "python",
   "nbconvert_exporter": "python",
   "pygments_lexer": "ipython3",
   "version": "3.9.7"
  },
  "orig_nbformat": 4
 },
 "nbformat": 4,
 "nbformat_minor": 2
}
